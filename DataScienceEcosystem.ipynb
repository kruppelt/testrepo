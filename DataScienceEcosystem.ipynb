{
 "cells": [
  {
   "cell_type": "markdown",
   "id": "487704c0",
   "metadata": {},
   "source": [
    "# Data Science Tools and Ecosystem"
   ]
  },
  {
   "cell_type": "markdown",
   "id": "81c7a6fd",
   "metadata": {},
   "source": [
    "In this Notebook, we will describe about Data Science succinctly."
   ]
  },
  {
   "cell_type": "markdown",
   "id": "78e505b6",
   "metadata": {},
   "source": [
    "**Objectives:**\n",
    "- List popular languages that Data Science use;\n",
    "- List commonly libraries Data Science use;\n",
    "- List arithmetic expression;"
   ]
  },
  {
   "cell_type": "markdown",
   "id": "2912145f",
   "metadata": {},
   "source": [
    "Some of the popular languages that Data Scientists use are:\n",
    "1. Python\n",
    "2. R\n",
    "3. Java\n",
    "4. SQL\n",
    "5. C/C++"
   ]
  },
  {
   "cell_type": "markdown",
   "id": "f9cae6d5",
   "metadata": {},
   "source": [
    "Some of the commonly used libraries used by Data Scientists include:\n",
    "- Pandas\n",
    "- NumPy\n",
    "- SciPy"
   ]
  },
  {
   "cell_type": "markdown",
   "id": "4c1facf5",
   "metadata": {},
   "source": [
    "| Data Science Tools |\n",
    "|--------------------|\n",
    "|  Jupyter Notebook  |\n",
    "|       RStudio      |\n",
    "|   Apache Zeppelin  |"
   ]
  },
  {
   "cell_type": "markdown",
   "id": "6c3f55f6",
   "metadata": {},
   "source": [
    "### Below are a few examples of evaluating arithmetic expressions in Python"
   ]
  },
  {
   "cell_type": "code",
   "execution_count": 5,
   "id": "73916d4d",
   "metadata": {},
   "outputs": [
    {
     "data": {
      "text/plain": [
       "17"
      ]
     },
     "execution_count": 5,
     "metadata": {},
     "output_type": "execute_result"
    }
   ],
   "source": [
    "# This a simple arithmetic expression to mutiply then add integers\n",
    "(3*4)+5"
   ]
  },
  {
   "cell_type": "code",
   "execution_count": 7,
   "id": "ad946392",
   "metadata": {},
   "outputs": [
    {
     "name": "stdout",
     "output_type": "stream",
     "text": [
      "200 minuts =  3.3333333333333335 hours\n"
     ]
    }
   ],
   "source": [
    "# This will convert 200 minutes to hours by diving by 60\n",
    "minuts = 200\n",
    "hours = 200 / 60\n",
    "print(minuts, \"minuts = \", hours, \"hours\")"
   ]
  },
  {
   "cell_type": "markdown",
   "id": "1bb75b86",
   "metadata": {},
   "source": [
    "## Author ## \n",
    "Klaus A Ruppelt"
   ]
  },
  {
   "cell_type": "code",
   "execution_count": null,
   "id": "96fc8968",
   "metadata": {},
   "outputs": [],
   "source": []
  }
 ],
 "metadata": {
  "kernelspec": {
   "display_name": "Python 3 (ipykernel)",
   "language": "python",
   "name": "python3"
  },
  "language_info": {
   "codemirror_mode": {
    "name": "ipython",
    "version": 3
   },
   "file_extension": ".py",
   "mimetype": "text/x-python",
   "name": "python",
   "nbconvert_exporter": "python",
   "pygments_lexer": "ipython3",
   "version": "3.9.13"
  }
 },
 "nbformat": 4,
 "nbformat_minor": 5
}
